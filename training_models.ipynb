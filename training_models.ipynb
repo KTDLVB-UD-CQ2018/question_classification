{
  "nbformat": 4,
  "nbformat_minor": 0,
  "metadata": {
    "colab": {
      "name": "training_models.ipynb",
      "provenance": [],
      "collapsed_sections": [],
      "toc_visible": true,
      "include_colab_link": true
    },
    "kernelspec": {
      "name": "python3",
      "display_name": "Python 3"
    },
    "language_info": {
      "name": "python"
    }
  },
  "cells": [
    {
      "cell_type": "markdown",
      "metadata": {
        "id": "view-in-github",
        "colab_type": "text"
      },
      "source": [
        "<a href=\"https://colab.research.google.com/github/KTDLVB-UD-CQ2018/question_classification/blob/master/training_models.ipynb\" target=\"_parent\"><img src=\"https://colab.research.google.com/assets/colab-badge.svg\" alt=\"Open In Colab\"/></a>"
      ]
    },
    {
      "cell_type": "markdown",
      "metadata": {
        "id": "KYH5dV1hm87A"
      },
      "source": [
        "# **Setup**"
      ]
    },
    {
      "cell_type": "code",
      "metadata": {
        "id": "PEGqZ0FDary6"
      },
      "source": [
        "import pandas as pd \n",
        "import re\n",
        "import string\n",
        "import sklearn\n",
        "\n",
        "from sklearn.feature_extraction.text import CountVectorizer\n",
        "from sklearn.feature_extraction.text import TfidfTransformer  \n",
        "from sklearn.model_selection import train_test_split\n",
        "\n",
        "from sklearn.naive_bayes import MultinomialNB\n",
        "from sklearn.linear_model import LogisticRegression\n",
        "from sklearn import svm\n",
        "from sklearn.neighbors import KNeighborsClassifier\n",
        "\n",
        "from sklearn.pipeline  import Pipeline\n",
        "from sklearn.pipeline import make_pipeline\n",
        "from sklearn import metrics\n",
        "\n",
        "import pickle\n",
        "import joblib"
      ],
      "execution_count": 1,
      "outputs": []
    },
    {
      "cell_type": "markdown",
      "metadata": {
        "id": "reoiWeQUnAJ4"
      },
      "source": [
        "**Check sklearn version**"
      ]
    },
    {
      "cell_type": "code",
      "metadata": {
        "colab": {
          "base_uri": "https://localhost:8080/"
        },
        "id": "kzUJS4oparpq",
        "outputId": "5e305276-b601-4875-b0dc-ecc5a25dd4bd"
      },
      "source": [
        "sklearn_version = sklearn.__version__\n",
        "print(sklearn_version)"
      ],
      "execution_count": 2,
      "outputs": [
        {
          "output_type": "stream",
          "text": [
            "0.22.2.post1\n"
          ],
          "name": "stdout"
        }
      ]
    },
    {
      "cell_type": "markdown",
      "metadata": {
        "id": "p4A9S7F-nC_G"
      },
      "source": [
        "**Get data from github**"
      ]
    },
    {
      "cell_type": "code",
      "metadata": {
        "colab": {
          "base_uri": "https://localhost:8080/"
        },
        "id": "cAPHHm7oaeaq",
        "outputId": "d0502ea9-b876-4d97-dba8-382626c29ccb"
      },
      "source": [
        "!wget https://github.com/KTDLVB-UD-CQ2018/question_classification/blob/master/app/VietnamseQuestionDataset.xlsx?raw=true -O dataset.xlsx"
      ],
      "execution_count": 3,
      "outputs": [
        {
          "output_type": "stream",
          "text": [
            "--2021-04-26 15:52:24--  https://github.com/KTDLVB-UD-CQ2018/question_classification/blob/master/app/VietnamseQuestionDataset.xlsx?raw=true\n",
            "Resolving github.com (github.com)... 13.114.40.48\n",
            "Connecting to github.com (github.com)|13.114.40.48|:443... connected.\n",
            "HTTP request sent, awaiting response... 302 Found\n",
            "Location: https://github.com/KTDLVB-UD-CQ2018/question_classification/raw/master/app/VietnamseQuestionDataset.xlsx [following]\n",
            "--2021-04-26 15:52:24--  https://github.com/KTDLVB-UD-CQ2018/question_classification/raw/master/app/VietnamseQuestionDataset.xlsx\n",
            "Reusing existing connection to github.com:443.\n",
            "HTTP request sent, awaiting response... 302 Found\n",
            "Location: https://raw.githubusercontent.com/KTDLVB-UD-CQ2018/question_classification/master/app/VietnamseQuestionDataset.xlsx [following]\n",
            "--2021-04-26 15:52:24--  https://raw.githubusercontent.com/KTDLVB-UD-CQ2018/question_classification/master/app/VietnamseQuestionDataset.xlsx\n",
            "Resolving raw.githubusercontent.com (raw.githubusercontent.com)... 185.199.108.133, 185.199.109.133, 185.199.111.133, ...\n",
            "Connecting to raw.githubusercontent.com (raw.githubusercontent.com)|185.199.108.133|:443... connected.\n",
            "HTTP request sent, awaiting response... 200 OK\n",
            "Length: 108305 (106K) [application/octet-stream]\n",
            "Saving to: ‘dataset.xlsx’\n",
            "\n",
            "dataset.xlsx        100%[===================>] 105.77K  --.-KB/s    in 0.03s   \n",
            "\n",
            "2021-04-26 15:52:25 (3.91 MB/s) - ‘dataset.xlsx’ saved [108305/108305]\n",
            "\n"
          ],
          "name": "stdout"
        }
      ]
    },
    {
      "cell_type": "code",
      "metadata": {
        "id": "zyGxOZbhX7Q8"
      },
      "source": [
        "df = pd.read_excel(\"/content/dataset.xlsx\", sheet_name = 0, header=0, skiprows = 3, usecols = [1,2,4])"
      ],
      "execution_count": 4,
      "outputs": []
    },
    {
      "cell_type": "markdown",
      "metadata": {
        "id": "2fFbZ9P2cLTw"
      },
      "source": [
        "**Làm sạch dữ liệu bằng cách loại bỏ các dấu câu, chữ số, đường link,..**"
      ]
    },
    {
      "cell_type": "code",
      "metadata": {
        "id": "TOXI8WPaQLl1"
      },
      "source": [
        "def Clean_Corpus(sent):\n",
        "  sent = sent.lower()\n",
        "  sent = re.sub('\\[.*?\\]', '', sent)\n",
        "  sent = re.sub('https?://\\S+|www\\.\\S+', '', sent)\n",
        "  sent = re.sub('<.*?>+', '', sent)\n",
        "  sent = re.sub('[%s]' % re.escape(string.punctuation), '', sent)\n",
        "  sent = re.sub('\\n', '', sent)\n",
        "  sent = re.sub('\\w*\\d\\w*', '', sent)\n",
        "  return sent\n"
      ],
      "execution_count": 5,
      "outputs": []
    },
    {
      "cell_type": "code",
      "metadata": {
        "id": "dvP3vPU0nlRO"
      },
      "source": [
        "df['Câu hỏi'] = df['Câu hỏi'].apply(Clean_Corpus)"
      ],
      "execution_count": 6,
      "outputs": []
    },
    {
      "cell_type": "markdown",
      "metadata": {
        "id": "0ktLIbZJnKb3"
      },
      "source": [
        "**Fix some issues with incorrect labels**"
      ]
    },
    {
      "cell_type": "code",
      "metadata": {
        "id": "9eiu7iZisgd5"
      },
      "source": [
        "def normalize_categories(cat):\n",
        "  res = cat\n",
        "  if res == \"ENT\":\n",
        "    res = \"ENTY\"\n",
        "  if res == \"Select\":\n",
        "    res = \"SELECT\"\n",
        "  if res == \"NUM.data\":\n",
        "    res = \"NUM.date\"\n",
        "  return res"
      ],
      "execution_count": 7,
      "outputs": []
    },
    {
      "cell_type": "code",
      "metadata": {
        "id": "KifDxx4curPV"
      },
      "source": [
        "df['LOẠI'] = df['LOẠI'].apply(normalize_categories)"
      ],
      "execution_count": 8,
      "outputs": []
    },
    {
      "cell_type": "markdown",
      "metadata": {
        "id": "7KAPkV3zcr42"
      },
      "source": [
        "**Phân ra tập Train và tập Test**"
      ]
    },
    {
      "cell_type": "code",
      "metadata": {
        "id": "VkpF-JDagjb6"
      },
      "source": [
        "train_df = df[df['DATASET'] == 'TRAIN']\n",
        "test_df = df[df['DATASET'] == 'TEST']"
      ],
      "execution_count": 9,
      "outputs": []
    },
    {
      "cell_type": "code",
      "metadata": {
        "colab": {
          "base_uri": "https://localhost:8080/"
        },
        "id": "MjSz3Slygn7x",
        "outputId": "3646f344-f25d-40ae-c5f3-9773d8dae216"
      },
      "source": [
        "train_df.shape"
      ],
      "execution_count": 10,
      "outputs": [
        {
          "output_type": "execute_result",
          "data": {
            "text/plain": [
              "(1837, 3)"
            ]
          },
          "metadata": {
            "tags": []
          },
          "execution_count": 10
        }
      ]
    },
    {
      "cell_type": "code",
      "metadata": {
        "colab": {
          "base_uri": "https://localhost:8080/"
        },
        "id": "7nVfmp6ag1Fz",
        "outputId": "cf84eda2-4dc5-4686-e89d-eefd4c147aa6"
      },
      "source": [
        "test_df.shape"
      ],
      "execution_count": 11,
      "outputs": [
        {
          "output_type": "execute_result",
          "data": {
            "text/plain": [
              "(442, 3)"
            ]
          },
          "metadata": {
            "tags": []
          },
          "execution_count": 11
        }
      ]
    },
    {
      "cell_type": "markdown",
      "metadata": {
        "id": "EYPKEXpcdy5I"
      },
      "source": [
        "**Lấy ra các dữ liệu cần cho mô hình**\n",
        "\n",
        "\n",
        "Vì trong dataframe chỉ có 2 cột 'Câu hỏi' và 'LOẠI' là hữu ích cho mô hình"
      ]
    },
    {
      "cell_type": "code",
      "metadata": {
        "id": "kmMuOCp4iJjx"
      },
      "source": [
        "X_train = train_df['Câu hỏi'].to_list()\n",
        "y_train = train_df['LOẠI'].to_list()\n",
        "X_test = test_df['Câu hỏi'].to_list()\n",
        "y_test = test_df['LOẠI'].to_list()"
      ],
      "execution_count": 12,
      "outputs": []
    },
    {
      "cell_type": "markdown",
      "metadata": {
        "id": "Mh8DCFZeejsO"
      },
      "source": [
        "**Phân tập Train ban đầu thành 2 tập Train và Validation**"
      ]
    },
    {
      "cell_type": "code",
      "metadata": {
        "id": "lMk62r5rfk-X"
      },
      "source": [
        "X_train, X_val, y_train, y_val = train_test_split(X_train, y_train, test_size = 0.33, random_state = 0, stratify=y_train)"
      ],
      "execution_count": 13,
      "outputs": []
    },
    {
      "cell_type": "code",
      "metadata": {
        "colab": {
          "base_uri": "https://localhost:8080/"
        },
        "id": "KbtSatFhgB3F",
        "outputId": "17bc96b3-8d30-47c0-db7e-ca0bc42608d3"
      },
      "source": [
        "len(X_train)"
      ],
      "execution_count": 14,
      "outputs": [
        {
          "output_type": "execute_result",
          "data": {
            "text/plain": [
              "1230"
            ]
          },
          "metadata": {
            "tags": []
          },
          "execution_count": 14
        }
      ]
    },
    {
      "cell_type": "code",
      "metadata": {
        "colab": {
          "base_uri": "https://localhost:8080/"
        },
        "id": "hA3qPUWugLFf",
        "outputId": "ca053366-022a-43f7-fc1a-51adc6b0db5f"
      },
      "source": [
        "len(X_val)"
      ],
      "execution_count": 15,
      "outputs": [
        {
          "output_type": "execute_result",
          "data": {
            "text/plain": [
              "607"
            ]
          },
          "metadata": {
            "tags": []
          },
          "execution_count": 15
        }
      ]
    },
    {
      "cell_type": "markdown",
      "metadata": {
        "id": "LO7ZB_K6nQ_r"
      },
      "source": [
        "**Create TF-IDF transformer**"
      ]
    },
    {
      "cell_type": "code",
      "metadata": {
        "id": "iDrbCHW5tfXF"
      },
      "source": [
        "tfidf = TfidfTransformer()"
      ],
      "execution_count": 16,
      "outputs": []
    },
    {
      "cell_type": "markdown",
      "metadata": {
        "id": "xkOfU_fhjMfs"
      },
      "source": [
        "# **Huấn luyện theo mô hình Naive Bayes**"
      ]
    },
    {
      "cell_type": "markdown",
      "metadata": {
        "id": "dttzQWSfnIC5"
      },
      "source": [
        "**Thử nghiệm chọn ra mô hình tốt nhất**"
      ]
    },
    {
      "cell_type": "code",
      "metadata": {
        "id": "IzSm-jVujoTt"
      },
      "source": [
        "li_fit_prior = [True, False]\n",
        "li_alpha = [0.9,  0.99, 1.0, 1.1, 1.11, 1.111, 1.2, 1.21]\n",
        "li_ngram = [(1,1), (1,2), (1,3), (2,2), (2,3), (3,3)]\n",
        "\n",
        "best_alpha = 0 \n",
        "best_fit_prior = False\n",
        "best_ngram = (0,0)\n",
        "best_score = 0.0\n",
        "\n",
        "for fit_prior in li_fit_prior:\n",
        "  for alpha in li_alpha:\n",
        "    for ngram in li_ngram:\n",
        "      vect = CountVectorizer(ngram_range=ngram)\n",
        "      pipe = make_pipeline(vect, tfidf)\n",
        "      pipe.fit_transform(X_train)\n",
        "      pipe.transform(X_val)\n",
        "      nb = MultinomialNB(alpha = alpha, fit_prior = fit_prior)\n",
        "      full_pipeline = make_pipeline(pipe, nb)\n",
        "      full_pipeline.fit(X_train, y_train)\n",
        "      y_pred_class = full_pipeline.predict(X_val)\n",
        "      score = metrics.accuracy_score(y_val, y_pred_class)\n",
        "      if score > best_score:\n",
        "        best_alpha = alpha\n",
        "        best_fit_prior = fit_prior\n",
        "        best_ngram = ngram\n",
        "        best_score = score"
      ],
      "execution_count": 17,
      "outputs": []
    },
    {
      "cell_type": "code",
      "metadata": {
        "colab": {
          "base_uri": "https://localhost:8080/"
        },
        "id": "L6qjxhOEnWTn",
        "outputId": "7908a36d-7940-459b-b762-534424b239b5"
      },
      "source": [
        "print(best_alpha)\n",
        "print(best_fit_prior)\n",
        "print(best_ngram)\n",
        "print(best_score)"
      ],
      "execution_count": 18,
      "outputs": [
        {
          "output_type": "stream",
          "text": [
            "1.1\n",
            "False\n",
            "(1, 3)\n",
            "0.728171334431631\n"
          ],
          "name": "stdout"
        }
      ]
    },
    {
      "cell_type": "markdown",
      "metadata": {
        "id": "cS6vyHzInhTP"
      },
      "source": [
        "**Huấn luyện theo mô hình tốt nhất vừa tìm được**\n"
      ]
    },
    {
      "cell_type": "code",
      "metadata": {
        "id": "2Z5NYZYqn1eL"
      },
      "source": [
        "nb = MultinomialNB(alpha = best_alpha, fit_prior = best_fit_prior)\n",
        "vect = CountVectorizer(ngram_range=best_ngram)\n",
        "pipe = make_pipeline(vect, tfidf)\n",
        "pipe.fit_transform(X_train, y_train)\n",
        "pipe.transform(X_val)\n",
        "pipe.transform(X_test)\n",
        "full_pipeline = make_pipeline(pipe, nb)"
      ],
      "execution_count": 19,
      "outputs": []
    },
    {
      "cell_type": "markdown",
      "metadata": {
        "id": "Ryl5KQt6oMJ9"
      },
      "source": [
        "**Thực hiện dự đoán trên tập Test**"
      ]
    },
    {
      "cell_type": "code",
      "metadata": {
        "colab": {
          "base_uri": "https://localhost:8080/"
        },
        "id": "ICB5bNe-ured",
        "outputId": "63577d50-a24a-438a-aecc-542dca248bdc"
      },
      "source": [
        "full_pipeline.fit(X_train, y_train)\n",
        "y_pred_class = full_pipeline.predict(X_test)\n",
        "print('Accuracy: ')\n",
        "print(metrics.accuracy_score(y_test, y_pred_class))\n"
      ],
      "execution_count": 20,
      "outputs": [
        {
          "output_type": "stream",
          "text": [
            "Accuracy: \n",
            "0.7239819004524887\n"
          ],
          "name": "stdout"
        }
      ]
    },
    {
      "cell_type": "markdown",
      "metadata": {
        "id": "gt3O-JVw9Rte"
      },
      "source": [
        "**Dump models**"
      ]
    },
    {
      "cell_type": "code",
      "metadata": {
        "id": "VykAcfZU9V0l",
        "colab": {
          "base_uri": "https://localhost:8080/"
        },
        "outputId": "8544f34e-e864-4738-c982-71773ad52577"
      },
      "source": [
        "joblib.dump(full_pipeline, \"pipeline_nb.joblib\")"
      ],
      "execution_count": 21,
      "outputs": [
        {
          "output_type": "execute_result",
          "data": {
            "text/plain": [
              "['pipeline_nb.joblib']"
            ]
          },
          "metadata": {
            "tags": []
          },
          "execution_count": 21
        }
      ]
    },
    {
      "cell_type": "markdown",
      "metadata": {
        "id": "eegnAJXvpIRP"
      },
      "source": [
        "# **Huấn luyện theo mô hình Logistic Regression**"
      ]
    },
    {
      "cell_type": "markdown",
      "metadata": {
        "id": "8ir00I-ut7Pa"
      },
      "source": [
        "**Thử nghiệm chọn ra mô hình tốt nhất**"
      ]
    },
    {
      "cell_type": "code",
      "metadata": {
        "id": "vQpW5J0IuMBz"
      },
      "source": [
        "li_C = [10, 20, 30, 40, 50, 60, 70, 80]\n",
        "li_ngram = [(1,1), (1,2), (1,3), (2,2), (2,3)]\n",
        "\n",
        "best_C = 0\n",
        "best_ngram = (0,0)\n",
        "best_score = 0.0\n",
        "\n",
        "for C in li_C:\n",
        "    for ngram in li_ngram:\n",
        "      vect = CountVectorizer(ngram_range=ngram)\n",
        "      pipe = make_pipeline(vect, tfidf)\n",
        "      pipe.fit_transform(X_train)\n",
        "      pipe.transform(X_val)\n",
        "      logistic_model = LogisticRegression(C=C, class_weight='balanced', multi_class='ovr')\n",
        "      full_pipeline = make_pipeline(pipe, logistic_model)\n",
        "      full_pipeline.fit(X_train, y_train)\n",
        "      y_pred_class = full_pipeline.predict(X_val)\n",
        "      score = metrics.accuracy_score(y_val, y_pred_class)\n",
        "      if score > best_score:\n",
        "        best_ngram = ngram\n",
        "        best_C = C\n",
        "        best_score = score"
      ],
      "execution_count": 22,
      "outputs": []
    },
    {
      "cell_type": "code",
      "metadata": {
        "colab": {
          "base_uri": "https://localhost:8080/"
        },
        "id": "lKYOWNziwNii",
        "outputId": "f7122db6-d6eb-4bff-f79f-181e22f51db8"
      },
      "source": [
        "print(best_ngram)\n",
        "print(best_C)\n",
        "print(best_score)"
      ],
      "execution_count": 23,
      "outputs": [
        {
          "output_type": "stream",
          "text": [
            "(1, 2)\n",
            "70\n",
            "0.7957166392092258\n"
          ],
          "name": "stdout"
        }
      ]
    },
    {
      "cell_type": "markdown",
      "metadata": {
        "id": "R2D0_ZYfwYoC"
      },
      "source": [
        "**Huấn luyện theo mô hình tốt nhất vừa tìm được**"
      ]
    },
    {
      "cell_type": "code",
      "metadata": {
        "id": "_fsI-GdSwUAt"
      },
      "source": [
        "logistic_model = LogisticRegression(C=best_C, class_weight='balanced', multi_class='ovr')\n",
        "vect = CountVectorizer(ngram_range=best_ngram)\n",
        "pipe = make_pipeline(vect, tfidf)\n",
        "pipe.fit_transform(X_train, y_train)\n",
        "pipe.transform(X_val)\n",
        "pipe.transform(X_test)\n",
        "full_pipeline = make_pipeline(pipe, logistic_model)"
      ],
      "execution_count": 24,
      "outputs": []
    },
    {
      "cell_type": "markdown",
      "metadata": {
        "id": "8smAMLJ3wvBZ"
      },
      "source": [
        "**Thực hiện dự đoán kết quả của tập Test**"
      ]
    },
    {
      "cell_type": "code",
      "metadata": {
        "colab": {
          "base_uri": "https://localhost:8080/"
        },
        "id": "5OWEB3gnwXdf",
        "outputId": "d05d8d8f-c99a-454d-fec9-349c22eeb8ce"
      },
      "source": [
        "full_pipeline.fit(X_train, y_train)\n",
        "y_pred_class = full_pipeline.predict(X_test)\n",
        "print('Accuracy: ')\n",
        "print(metrics.accuracy_score(y_test, y_pred_class))\n"
      ],
      "execution_count": 25,
      "outputs": [
        {
          "output_type": "stream",
          "text": [
            "Accuracy: \n",
            "0.8031674208144797\n"
          ],
          "name": "stdout"
        }
      ]
    },
    {
      "cell_type": "markdown",
      "metadata": {
        "id": "f9z2eNKkYERF"
      },
      "source": [
        "**Dump models**"
      ]
    },
    {
      "cell_type": "code",
      "metadata": {
        "colab": {
          "base_uri": "https://localhost:8080/"
        },
        "id": "kxJjjZDAZtBy",
        "outputId": "0f37d3df-2c77-487b-bda1-5dd34881e21b"
      },
      "source": [
        "joblib.dump(full_pipeline, \"pipeline_logreg.joblib\")"
      ],
      "execution_count": 26,
      "outputs": [
        {
          "output_type": "execute_result",
          "data": {
            "text/plain": [
              "['pipeline_logreg.joblib']"
            ]
          },
          "metadata": {
            "tags": []
          },
          "execution_count": 26
        }
      ]
    },
    {
      "cell_type": "markdown",
      "metadata": {
        "id": "bB6f9fswej7n"
      },
      "source": [
        "# **Huấn luyện theo mô hình Support Vector Machine**"
      ]
    },
    {
      "cell_type": "markdown",
      "metadata": {
        "id": "RaWHG0lwej7o"
      },
      "source": [
        "**Thử nghiệm chọn ra mô hình tốt nhất**"
      ]
    },
    {
      "cell_type": "code",
      "metadata": {
        "id": "cS8g_5_Hej7o"
      },
      "source": [
        "svm_C = [1, 10, 20, 30, 40, 50, 60, 70, 80]\n",
        "svm_ngram = [(1,1), (1,2), (1,3), (2,2), (2,3)]\n",
        "\n",
        "best_C = 0\n",
        "best_ngram = (0,0)\n",
        "best_score = 0.0\n",
        "\n",
        "for C in svm_C:\n",
        "    for ngram in svm_ngram:\n",
        "      vect = CountVectorizer(ngram_range=ngram)\n",
        "      pipe = make_pipeline(vect, tfidf)\n",
        "      pipe.fit_transform(X_train)\n",
        "      pipe.transform(X_val)\n",
        "      svm_model = svm.SVC(C=C, kernel='linear', degree=3, gamma='auto')\n",
        "      full_pipeline = make_pipeline(pipe, svm_model)\n",
        "      full_pipeline.fit(X_train, y_train)\n",
        "      y_pred_class = full_pipeline.predict(X_val)\n",
        "      score = metrics.accuracy_score(y_val, y_pred_class)\n",
        "      if score > best_score:\n",
        "        best_ngram = ngram\n",
        "        best_C = C\n",
        "        best_score = score"
      ],
      "execution_count": 27,
      "outputs": []
    },
    {
      "cell_type": "code",
      "metadata": {
        "colab": {
          "base_uri": "https://localhost:8080/"
        },
        "id": "B14SKwJMej7o",
        "outputId": "8398ce1e-1943-4fb4-e6e0-e294941e940d"
      },
      "source": [
        "print(best_ngram)\n",
        "print(best_C)\n",
        "print(best_score)"
      ],
      "execution_count": 28,
      "outputs": [
        {
          "output_type": "stream",
          "text": [
            "(1, 2)\n",
            "10\n",
            "0.7891268533772653\n"
          ],
          "name": "stdout"
        }
      ]
    },
    {
      "cell_type": "markdown",
      "metadata": {
        "id": "akd1zLvxej7p"
      },
      "source": [
        "**Huấn luyện theo mô hình tốt nhất vừa tìm được**"
      ]
    },
    {
      "cell_type": "code",
      "metadata": {
        "id": "oLpUK3Ryej7p"
      },
      "source": [
        "svm_model = svm.SVC(C=best_C, kernel='linear', degree=3, gamma='auto', probability=True)\n",
        "vect = CountVectorizer(ngram_range=best_ngram)\n",
        "pipe = make_pipeline(vect, tfidf)\n",
        "pipe.fit_transform(X_train, y_train)\n",
        "pipe.transform(X_val)\n",
        "pipe.transform(X_test)\n",
        "full_pipeline = make_pipeline(pipe, svm_model)"
      ],
      "execution_count": 29,
      "outputs": []
    },
    {
      "cell_type": "markdown",
      "metadata": {
        "id": "sXbmEza3ej7p"
      },
      "source": [
        "**Thực hiện dự đoán kết quả của tập Test**"
      ]
    },
    {
      "cell_type": "code",
      "metadata": {
        "colab": {
          "base_uri": "https://localhost:8080/"
        },
        "id": "T7LDc95Fej7q",
        "outputId": "5dd3dd87-28f0-4c6e-e07e-c06d2277d6d0"
      },
      "source": [
        "full_pipeline.fit(X_train, y_train)\n",
        "y_pred_class = full_pipeline.predict(X_test)\n",
        "print('Accuracy: ')\n",
        "print(metrics.accuracy_score(y_test, y_pred_class))\n"
      ],
      "execution_count": 30,
      "outputs": [
        {
          "output_type": "stream",
          "text": [
            "Accuracy: \n",
            "0.7941176470588235\n"
          ],
          "name": "stdout"
        }
      ]
    },
    {
      "cell_type": "code",
      "metadata": {
        "colab": {
          "base_uri": "https://localhost:8080/"
        },
        "id": "i08jh0b_s8PO",
        "outputId": "12249a6e-28bd-4693-916c-807f79e900cd"
      },
      "source": [
        "full_pipeline.steps[1][1]"
      ],
      "execution_count": 31,
      "outputs": [
        {
          "output_type": "execute_result",
          "data": {
            "text/plain": [
              "SVC(C=10, break_ties=False, cache_size=200, class_weight=None, coef0=0.0,\n",
              "    decision_function_shape='ovr', degree=3, gamma='auto', kernel='linear',\n",
              "    max_iter=-1, probability=True, random_state=None, shrinking=True, tol=0.001,\n",
              "    verbose=False)"
            ]
          },
          "metadata": {
            "tags": []
          },
          "execution_count": 31
        }
      ]
    },
    {
      "cell_type": "markdown",
      "metadata": {
        "id": "4131a6dxej7q"
      },
      "source": [
        "**Dump models**"
      ]
    },
    {
      "cell_type": "code",
      "metadata": {
        "colab": {
          "base_uri": "https://localhost:8080/"
        },
        "id": "cw3mUSa1ej7q",
        "outputId": "dc83675a-063a-4134-b908-d4d871d45a1c"
      },
      "source": [
        "joblib.dump(full_pipeline, \"pipeline_svm.joblib\")"
      ],
      "execution_count": 32,
      "outputs": [
        {
          "output_type": "execute_result",
          "data": {
            "text/plain": [
              "['pipeline_svm.joblib']"
            ]
          },
          "metadata": {
            "tags": []
          },
          "execution_count": 32
        }
      ]
    },
    {
      "cell_type": "markdown",
      "metadata": {
        "id": "d0eabC-AjmQr"
      },
      "source": [
        "# **Huấn luyện theo mô hình k-nearest neighbor**"
      ]
    },
    {
      "cell_type": "markdown",
      "metadata": {
        "id": "XOF_rBrRjmQ3"
      },
      "source": [
        "**Thử nghiệm chọn ra mô hình tốt nhất**"
      ]
    },
    {
      "cell_type": "code",
      "metadata": {
        "id": "FoMY5rMmjmQ3"
      },
      "source": [
        "knn_neighbors = list(range(1,10))\n",
        "knn_ngram = [(1,1), (1,2), (1,3), (2,2), (2,3)]\n",
        "\n",
        "best_n = 0\n",
        "best_ngram = (0,0)\n",
        "best_score = 0.0\n",
        "\n",
        "for n_neighbors in knn_neighbors:\n",
        "    for ngram in li_ngram:\n",
        "      vect = CountVectorizer(ngram_range=ngram)\n",
        "      pipe = make_pipeline(vect, tfidf)\n",
        "      pipe.fit_transform(X_train)\n",
        "      pipe.transform(X_val)\n",
        "      knn_model = KNeighborsClassifier(n_neighbors=n_neighbors)\n",
        "      full_pipeline = make_pipeline(pipe, knn_model)\n",
        "      full_pipeline.fit(X_train, y_train)\n",
        "      y_pred_class = full_pipeline.predict(X_val)\n",
        "      score = metrics.accuracy_score(y_val, y_pred_class)\n",
        "      if score > best_score:\n",
        "        best_ngram = ngram\n",
        "        best_n = n_neighbors\n",
        "        best_score = score"
      ],
      "execution_count": 33,
      "outputs": []
    },
    {
      "cell_type": "code",
      "metadata": {
        "colab": {
          "base_uri": "https://localhost:8080/"
        },
        "id": "GWgXODTTjmQ4",
        "outputId": "cfefa5f6-0bc2-4acd-d2bd-92fdf0f8b478"
      },
      "source": [
        "print(best_ngram)\n",
        "print(best_n)\n",
        "print(best_score)"
      ],
      "execution_count": 34,
      "outputs": [
        {
          "output_type": "stream",
          "text": [
            "(1, 2)\n",
            "9\n",
            "0.6738056013179572\n"
          ],
          "name": "stdout"
        }
      ]
    },
    {
      "cell_type": "markdown",
      "metadata": {
        "id": "JuwG30F9jmQ5"
      },
      "source": [
        "**Huấn luyện theo mô hình tốt nhất vừa tìm được**"
      ]
    },
    {
      "cell_type": "code",
      "metadata": {
        "id": "l5C5X-odjmQ5"
      },
      "source": [
        "knn_model = KNeighborsClassifier(n_neighbors=n_neighbors)\n",
        "vect = CountVectorizer(ngram_range=best_ngram)\n",
        "pipe = make_pipeline(vect, tfidf)\n",
        "pipe.fit_transform(X_train, y_train)\n",
        "pipe.transform(X_val)\n",
        "pipe.transform(X_test)\n",
        "full_pipeline = make_pipeline(pipe, knn_model)"
      ],
      "execution_count": 35,
      "outputs": []
    },
    {
      "cell_type": "markdown",
      "metadata": {
        "id": "dfbJjSzdjmQ5"
      },
      "source": [
        "**Thực hiện dự đoán kết quả của tập Test**"
      ]
    },
    {
      "cell_type": "code",
      "metadata": {
        "colab": {
          "base_uri": "https://localhost:8080/"
        },
        "id": "Tl6QT5erjmQ6",
        "outputId": "2a049f52-f870-415b-e7e3-51a48a050eea"
      },
      "source": [
        "full_pipeline.fit(X_train, y_train)\n",
        "y_pred_class = full_pipeline.predict(X_test)\n",
        "print('Accuracy: ')\n",
        "print(metrics.accuracy_score(y_test, y_pred_class))\n"
      ],
      "execution_count": 36,
      "outputs": [
        {
          "output_type": "stream",
          "text": [
            "Accuracy: \n",
            "0.6561085972850679\n"
          ],
          "name": "stdout"
        }
      ]
    },
    {
      "cell_type": "markdown",
      "metadata": {
        "id": "U4NKRhqCjmQ6"
      },
      "source": [
        "**Dump models**"
      ]
    },
    {
      "cell_type": "code",
      "metadata": {
        "colab": {
          "base_uri": "https://localhost:8080/"
        },
        "id": "XaiM435rjmQ8",
        "outputId": "b2117d34-c4f8-4ab7-c750-832700118be1"
      },
      "source": [
        "joblib.dump(full_pipeline, \"pipeline_knn.joblib\")"
      ],
      "execution_count": 37,
      "outputs": [
        {
          "output_type": "execute_result",
          "data": {
            "text/plain": [
              "['pipeline_knn.joblib']"
            ]
          },
          "metadata": {
            "tags": []
          },
          "execution_count": 37
        }
      ]
    },
    {
      "cell_type": "markdown",
      "metadata": {
        "id": "zTlj3U4A4zyF"
      },
      "source": [
        "# **Thử nghiệm các mô hình**\n",
        "Dự đoán loại câu hỏi:"
      ]
    },
    {
      "cell_type": "markdown",
      "metadata": {
        "id": "MIZCsrKo6mPS"
      },
      "source": [
        "**Nhập câu hỏi cần dự đoán ở đây**"
      ]
    },
    {
      "cell_type": "code",
      "metadata": {
        "id": "gf9wJC7w6liF"
      },
      "source": [
        "x = 'California là tiểu bang của nước nào?'"
      ],
      "execution_count": 38,
      "outputs": []
    },
    {
      "cell_type": "code",
      "metadata": {
        "id": "HeyxDGcw61BO"
      },
      "source": [
        "x = [x]"
      ],
      "execution_count": 39,
      "outputs": []
    },
    {
      "cell_type": "code",
      "metadata": {
        "id": "c3_hhxLm495R"
      },
      "source": [
        "import pandas as pd \n",
        "import re\n",
        "import string\n",
        "import sklearn\n",
        "\n",
        "from sklearn.feature_extraction.text import CountVectorizer\n",
        "from sklearn.feature_extraction.text import TfidfTransformer  \n",
        "from sklearn.model_selection import train_test_split\n",
        "\n",
        "from sklearn.naive_bayes import MultinomialNB\n",
        "from sklearn.linear_model import LogisticRegression\n",
        "from sklearn import svm\n",
        "from sklearn.neighbors import KNeighborsClassifier\n",
        "\n",
        "from sklearn.pipeline  import Pipeline\n",
        "from sklearn.pipeline import make_pipeline\n",
        "from sklearn import metrics\n",
        "\n",
        "import pickle\n",
        "import joblib"
      ],
      "execution_count": 40,
      "outputs": []
    },
    {
      "cell_type": "code",
      "metadata": {
        "id": "USrmqtqJ5PCC"
      },
      "source": [
        "models = []\n",
        "pipe_nb = joblib.load(\"pipeline_nb.joblib\")\n",
        "pipe_logreg = joblib.load(\"pipeline_logreg.joblib\")\n",
        "pipe_svm = joblib.load(\"pipeline_svm.joblib\")\n",
        "pipe_knn = joblib.load(\"pipeline_knn.joblib\")\n",
        "\n",
        "models.extend([pipe_nb, pipe_logreg, pipe_svm, pipe_knn])"
      ],
      "execution_count": 41,
      "outputs": []
    },
    {
      "cell_type": "code",
      "metadata": {
        "id": "rzltyf3Q65aS",
        "outputId": "839c76d1-717b-40e9-9db0-ebab32f65ad9",
        "colab": {
          "base_uri": "https://localhost:8080/"
        }
      },
      "source": [
        "for model in models:\n",
        "  print(f'Kết quả dự đoán của mô hình {model.steps[1][0]} là: {model.predict(x)[0]} với độ tin cậy {max(model.predict_proba(x)[0])*100}%')"
      ],
      "execution_count": 53,
      "outputs": [
        {
          "output_type": "stream",
          "text": [
            "Kết quả dự đoán của mô hình multinomialnb là: LOC.country với độ tin cậy 16.69377866422538%\n",
            "Kết quả dự đoán của mô hình logisticregression là: LOC.country với độ tin cậy 86.5280556362957%\n",
            "Kết quả dự đoán của mô hình svc là: LOC.country với độ tin cậy 91.33346836267015%\n",
            "Kết quả dự đoán của mô hình kneighborsclassifier là: LOC.country với độ tin cậy 33.33333333333333%\n"
          ],
          "name": "stdout"
        }
      ]
    }
  ]
}