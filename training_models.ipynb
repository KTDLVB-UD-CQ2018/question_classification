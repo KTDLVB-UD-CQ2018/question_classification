{
  "nbformat": 4,
  "nbformat_minor": 0,
  "metadata": {
    "colab": {
      "name": "training_models.ipynb",
      "provenance": [],
      "collapsed_sections": []
    },
    "kernelspec": {
      "name": "python3",
      "display_name": "Python 3"
    },
    "language_info": {
      "name": "python"
    }
  },
  "cells": [
    {
      "cell_type": "markdown",
      "metadata": {
        "id": "KYH5dV1hm87A"
      },
      "source": [
        "# **Setup**"
      ]
    },
    {
      "cell_type": "code",
      "metadata": {
        "id": "PEGqZ0FDary6"
      },
      "source": [
        "import sklearn\n",
        "from sklearn.feature_extraction.text import CountVectorizer\n",
        "from sklearn.feature_extraction.text import TfidfTransformer  \n",
        "from sklearn.model_selection import train_test_split\n",
        "import pandas as pd \n",
        "import re\n",
        "import string\n",
        "from sklearn.naive_bayes import MultinomialNB\n",
        "from sklearn.linear_model import LogisticRegression\n",
        "from sklearn import svm\n",
        "from sklearn.neighbors import KNeighborsClassifier\n",
        "from sklearn.pipeline  import Pipeline\n",
        "from sklearn.pipeline import make_pipeline\n",
        "from sklearn import metrics\n",
        "import pickle\n",
        "import joblib"
      ],
      "execution_count": 44,
      "outputs": []
    },
    {
      "cell_type": "markdown",
      "metadata": {
        "id": "reoiWeQUnAJ4"
      },
      "source": [
        "**Check sklearn version**"
      ]
    },
    {
      "cell_type": "code",
      "metadata": {
        "colab": {
          "base_uri": "https://localhost:8080/"
        },
        "id": "kzUJS4oparpq",
        "outputId": "6b693f2f-5ef1-45f5-9dc8-a5720c7861c3"
      },
      "source": [
        "sklearn_version = sklearn.__version__\n",
        "print(sklearn_version)"
      ],
      "execution_count": 45,
      "outputs": [
        {
          "output_type": "stream",
          "text": [
            "0.22.2.post1\n"
          ],
          "name": "stdout"
        }
      ]
    },
    {
      "cell_type": "markdown",
      "metadata": {
        "id": "p4A9S7F-nC_G"
      },
      "source": [
        "**Get data from github**"
      ]
    },
    {
      "cell_type": "code",
      "metadata": {
        "colab": {
          "base_uri": "https://localhost:8080/"
        },
        "id": "cAPHHm7oaeaq",
        "outputId": "8a27a0a7-3e32-4e90-85dc-8942602ff511"
      },
      "source": [
        "!wget https://github.com/KTDLVB-UD-CQ2018/question_classification/blob/master/app/VietnamseQuestionDataset.xlsx?raw=true -O dataset.xlsx"
      ],
      "execution_count": 46,
      "outputs": [
        {
          "output_type": "stream",
          "text": [
            "--2021-04-18 10:56:51--  https://github.com/KTDLVB-UD-CQ2018/question_classification/blob/master/app/VietnamseQuestionDataset.xlsx?raw=true\n",
            "Resolving github.com (github.com)... 140.82.113.4\n",
            "Connecting to github.com (github.com)|140.82.113.4|:443... connected.\n",
            "HTTP request sent, awaiting response... 302 Found\n",
            "Location: https://github.com/KTDLVB-UD-CQ2018/question_classification/raw/master/app/VietnamseQuestionDataset.xlsx [following]\n",
            "--2021-04-18 10:56:51--  https://github.com/KTDLVB-UD-CQ2018/question_classification/raw/master/app/VietnamseQuestionDataset.xlsx\n",
            "Reusing existing connection to github.com:443.\n",
            "HTTP request sent, awaiting response... 302 Found\n",
            "Location: https://raw.githubusercontent.com/KTDLVB-UD-CQ2018/question_classification/master/app/VietnamseQuestionDataset.xlsx [following]\n",
            "--2021-04-18 10:56:51--  https://raw.githubusercontent.com/KTDLVB-UD-CQ2018/question_classification/master/app/VietnamseQuestionDataset.xlsx\n",
            "Resolving raw.githubusercontent.com (raw.githubusercontent.com)... 185.199.108.133, 185.199.109.133, 185.199.110.133, ...\n",
            "Connecting to raw.githubusercontent.com (raw.githubusercontent.com)|185.199.108.133|:443... connected.\n",
            "HTTP request sent, awaiting response... 200 OK\n",
            "Length: 108305 (106K) [application/octet-stream]\n",
            "Saving to: ‘dataset.xlsx’\n",
            "\n",
            "dataset.xlsx        100%[===================>] 105.77K  --.-KB/s    in 0.02s   \n",
            "\n",
            "2021-04-18 10:56:51 (4.33 MB/s) - ‘dataset.xlsx’ saved [108305/108305]\n",
            "\n"
          ],
          "name": "stdout"
        }
      ]
    },
    {
      "cell_type": "code",
      "metadata": {
        "id": "zyGxOZbhX7Q8"
      },
      "source": [
        "df = pd.read_excel(\"/content/dataset.xlsx\", sheet_name = 0, header=0, skiprows = 3, usecols = [1,2,4])"
      ],
      "execution_count": 47,
      "outputs": []
    },
    {
      "cell_type": "markdown",
      "metadata": {
        "id": "2fFbZ9P2cLTw"
      },
      "source": [
        "**Làm sạch dữ liệu bằng cách loại bỏ các dấu câu, chữ số, đường link,..**"
      ]
    },
    {
      "cell_type": "code",
      "metadata": {
        "id": "TOXI8WPaQLl1"
      },
      "source": [
        "def Clean_Corpus(sent):\n",
        "  sent = sent.lower()\n",
        "  sent = re.sub('\\[.*?\\]', '', sent)\n",
        "  sent = re.sub('https?://\\S+|www\\.\\S+', '', sent)\n",
        "  sent = re.sub('<.*?>+', '', sent)\n",
        "  sent = re.sub('[%s]' % re.escape(string.punctuation), '', sent)\n",
        "  sent = re.sub('\\n', '', sent)\n",
        "  sent = re.sub('\\w*\\d\\w*', '', sent)\n",
        "  return sent\n"
      ],
      "execution_count": 48,
      "outputs": []
    },
    {
      "cell_type": "code",
      "metadata": {
        "id": "dvP3vPU0nlRO"
      },
      "source": [
        "df['Câu hỏi'] = df['Câu hỏi'].apply(Clean_Corpus)"
      ],
      "execution_count": 49,
      "outputs": []
    },
    {
      "cell_type": "markdown",
      "metadata": {
        "id": "0ktLIbZJnKb3"
      },
      "source": [
        "**Fix some issues with incorrect labels**"
      ]
    },
    {
      "cell_type": "code",
      "metadata": {
        "id": "9eiu7iZisgd5"
      },
      "source": [
        "def normalize_categories(cat):\n",
        "  res = cat\n",
        "  if res == \"ENT\":\n",
        "    res = \"ENTY\"\n",
        "  if res == \"Select\":\n",
        "    res = \"SELECT\"\n",
        "  if res == \"NUM.data\":\n",
        "    res = \"NUM.date\"\n",
        "  return res"
      ],
      "execution_count": 50,
      "outputs": []
    },
    {
      "cell_type": "code",
      "metadata": {
        "id": "KifDxx4curPV"
      },
      "source": [
        "df['LOẠI'] = df['LOẠI'].apply(normalize_categories)"
      ],
      "execution_count": 51,
      "outputs": []
    },
    {
      "cell_type": "markdown",
      "metadata": {
        "id": "7KAPkV3zcr42"
      },
      "source": [
        "**Phân ra tập Train và tập Test**"
      ]
    },
    {
      "cell_type": "code",
      "metadata": {
        "id": "VkpF-JDagjb6"
      },
      "source": [
        "train_df = df[df['DATASET'] == 'TRAIN']\n",
        "test_df = df[df['DATASET'] == 'TEST']"
      ],
      "execution_count": 52,
      "outputs": []
    },
    {
      "cell_type": "code",
      "metadata": {
        "colab": {
          "base_uri": "https://localhost:8080/"
        },
        "id": "MjSz3Slygn7x",
        "outputId": "ad07c2fe-14d7-45d1-c88d-c6f628e9e9d0"
      },
      "source": [
        "train_df.shape"
      ],
      "execution_count": 53,
      "outputs": [
        {
          "output_type": "execute_result",
          "data": {
            "text/plain": [
              "(1837, 3)"
            ]
          },
          "metadata": {
            "tags": []
          },
          "execution_count": 53
        }
      ]
    },
    {
      "cell_type": "code",
      "metadata": {
        "colab": {
          "base_uri": "https://localhost:8080/"
        },
        "id": "7nVfmp6ag1Fz",
        "outputId": "6cd3e555-8c4f-4c52-f69f-812117e44058"
      },
      "source": [
        "test_df.shape"
      ],
      "execution_count": 54,
      "outputs": [
        {
          "output_type": "execute_result",
          "data": {
            "text/plain": [
              "(442, 3)"
            ]
          },
          "metadata": {
            "tags": []
          },
          "execution_count": 54
        }
      ]
    },
    {
      "cell_type": "markdown",
      "metadata": {
        "id": "EYPKEXpcdy5I"
      },
      "source": [
        "**Lấy ra các dữ liệu cần cho mô hình**\n",
        "\n",
        "\n",
        "Vì trong dataframe chỉ có 2 cột 'Câu hỏi' và 'LOẠI' là hữu ích cho mô hình"
      ]
    },
    {
      "cell_type": "code",
      "metadata": {
        "id": "kmMuOCp4iJjx"
      },
      "source": [
        "X_train = train_df['Câu hỏi'].to_list()\n",
        "y_train = train_df['LOẠI'].to_list()\n",
        "X_test = test_df['Câu hỏi'].to_list()\n",
        "y_test = test_df['LOẠI'].to_list()"
      ],
      "execution_count": 55,
      "outputs": []
    },
    {
      "cell_type": "markdown",
      "metadata": {
        "id": "Mh8DCFZeejsO"
      },
      "source": [
        "**Phân tập Train ban đầu thành 2 tập Train và Validation**"
      ]
    },
    {
      "cell_type": "code",
      "metadata": {
        "id": "lMk62r5rfk-X"
      },
      "source": [
        "X_train, X_val, y_train, y_val = train_test_split(X_train, y_train, test_size = 0.33, random_state = 0, stratify=y_train)"
      ],
      "execution_count": 56,
      "outputs": []
    },
    {
      "cell_type": "code",
      "metadata": {
        "colab": {
          "base_uri": "https://localhost:8080/"
        },
        "id": "KbtSatFhgB3F",
        "outputId": "73af80b9-1338-4cd1-82e1-637ce40078ba"
      },
      "source": [
        "len(X_train)"
      ],
      "execution_count": 57,
      "outputs": [
        {
          "output_type": "execute_result",
          "data": {
            "text/plain": [
              "1230"
            ]
          },
          "metadata": {
            "tags": []
          },
          "execution_count": 57
        }
      ]
    },
    {
      "cell_type": "code",
      "metadata": {
        "colab": {
          "base_uri": "https://localhost:8080/"
        },
        "id": "hA3qPUWugLFf",
        "outputId": "362b7dec-db16-4aba-f6b7-2bf0c7a60824"
      },
      "source": [
        "len(X_val)"
      ],
      "execution_count": 58,
      "outputs": [
        {
          "output_type": "execute_result",
          "data": {
            "text/plain": [
              "607"
            ]
          },
          "metadata": {
            "tags": []
          },
          "execution_count": 58
        }
      ]
    },
    {
      "cell_type": "markdown",
      "metadata": {
        "id": "LO7ZB_K6nQ_r"
      },
      "source": [
        "**Create TF-IDF transformer**"
      ]
    },
    {
      "cell_type": "code",
      "metadata": {
        "id": "iDrbCHW5tfXF"
      },
      "source": [
        "tfidf = TfidfTransformer()"
      ],
      "execution_count": 59,
      "outputs": []
    },
    {
      "cell_type": "markdown",
      "metadata": {
        "id": "xkOfU_fhjMfs"
      },
      "source": [
        "# **Huấn luyện theo mô hình Naive Bayes**"
      ]
    },
    {
      "cell_type": "markdown",
      "metadata": {
        "id": "dttzQWSfnIC5"
      },
      "source": [
        "**Thử nghiệm chọn ra mô hình tốt nhất**"
      ]
    },
    {
      "cell_type": "code",
      "metadata": {
        "id": "IzSm-jVujoTt"
      },
      "source": [
        "li_fit_prior = [True, False]\n",
        "li_alpha = [0.9,  0.99, 1.0, 1.1, 1.11, 1.111, 1.2, 1.21]\n",
        "li_ngram = [(1,1), (1,2), (1,3), (2,2), (2,3), (3,3)]\n",
        "\n",
        "best_alpha = 0 \n",
        "best_fit_prior = False\n",
        "best_ngram = (0,0)\n",
        "best_score = 0.0\n",
        "\n",
        "for fit_prior in li_fit_prior:\n",
        "  for alpha in li_alpha:\n",
        "    for ngram in li_ngram:\n",
        "      vect = CountVectorizer(ngram_range=ngram)\n",
        "      pipe = make_pipeline(vect, tfidf)\n",
        "      pipe.fit_transform(X_train)\n",
        "      pipe.transform(X_val)\n",
        "      nb = MultinomialNB(alpha = alpha, fit_prior = fit_prior)\n",
        "      full_pipeline = make_pipeline(pipe, nb)\n",
        "      full_pipeline.fit(X_train, y_train)\n",
        "      y_pred_class = full_pipeline.predict(X_val)\n",
        "      score = metrics.accuracy_score(y_val, y_pred_class)\n",
        "      if score > best_score:\n",
        "        best_alpha = alpha\n",
        "        best_fit_prior = fit_prior\n",
        "        best_ngram = ngram\n",
        "        best_score = score"
      ],
      "execution_count": 60,
      "outputs": []
    },
    {
      "cell_type": "code",
      "metadata": {
        "colab": {
          "base_uri": "https://localhost:8080/"
        },
        "id": "L6qjxhOEnWTn",
        "outputId": "07b18633-0873-43ce-92d1-cff6f3fd40b1"
      },
      "source": [
        "print(best_alpha)\n",
        "print(best_fit_prior)\n",
        "print(best_ngram)\n",
        "print(best_score)"
      ],
      "execution_count": 61,
      "outputs": [
        {
          "output_type": "stream",
          "text": [
            "1.1\n",
            "False\n",
            "(1, 3)\n",
            "0.728171334431631\n"
          ],
          "name": "stdout"
        }
      ]
    },
    {
      "cell_type": "markdown",
      "metadata": {
        "id": "cS6vyHzInhTP"
      },
      "source": [
        "**Huấn luyện theo mô hình tốt nhất vừa tìm được**\n"
      ]
    },
    {
      "cell_type": "code",
      "metadata": {
        "id": "2Z5NYZYqn1eL"
      },
      "source": [
        "nb = MultinomialNB(alpha = best_alpha, fit_prior = best_fit_prior)\n",
        "vect = CountVectorizer(ngram_range=best_ngram)\n",
        "pipe = make_pipeline(vect, tfidf)\n",
        "pipe.fit_transform(X_train, y_train)\n",
        "pipe.transform(X_val)\n",
        "pipe.transform(X_test)\n",
        "full_pipeline = make_pipeline(pipe, nb)"
      ],
      "execution_count": 62,
      "outputs": []
    },
    {
      "cell_type": "markdown",
      "metadata": {
        "id": "Ryl5KQt6oMJ9"
      },
      "source": [
        "**Thực hiện dự đoán trên tập Test**"
      ]
    },
    {
      "cell_type": "code",
      "metadata": {
        "colab": {
          "base_uri": "https://localhost:8080/"
        },
        "id": "ICB5bNe-ured",
        "outputId": "5c4b1c2e-b9ca-4bb3-ecc2-60930b828fd1"
      },
      "source": [
        "full_pipeline.fit(X_train, y_train)\n",
        "y_pred_class = full_pipeline.predict(X_test)\n",
        "print('Accuracy: ')\n",
        "print(metrics.accuracy_score(y_test, y_pred_class))\n"
      ],
      "execution_count": 63,
      "outputs": [
        {
          "output_type": "stream",
          "text": [
            "Accuracy: \n",
            "0.7239819004524887\n"
          ],
          "name": "stdout"
        }
      ]
    },
    {
      "cell_type": "markdown",
      "metadata": {
        "id": "gt3O-JVw9Rte"
      },
      "source": [
        "**Dump models**"
      ]
    },
    {
      "cell_type": "code",
      "metadata": {
        "id": "VykAcfZU9V0l",
        "colab": {
          "base_uri": "https://localhost:8080/"
        },
        "outputId": "746a89fc-1eca-40af-e0ad-8a3226b3a8d4"
      },
      "source": [
        "joblib.dump(full_pipeline, \"pipeline_nb.joblib\")"
      ],
      "execution_count": 64,
      "outputs": [
        {
          "output_type": "execute_result",
          "data": {
            "text/plain": [
              "['pipeline_nb.joblib']"
            ]
          },
          "metadata": {
            "tags": []
          },
          "execution_count": 64
        }
      ]
    },
    {
      "cell_type": "markdown",
      "metadata": {
        "id": "eegnAJXvpIRP"
      },
      "source": [
        "# **Huấn luyện theo mô hình Logistic Regression**"
      ]
    },
    {
      "cell_type": "markdown",
      "metadata": {
        "id": "8ir00I-ut7Pa"
      },
      "source": [
        "**Thử nghiệm chọn ra mô hình tốt nhất**"
      ]
    },
    {
      "cell_type": "code",
      "metadata": {
        "id": "vQpW5J0IuMBz"
      },
      "source": [
        "li_C = [10, 20, 30, 40, 50, 60, 70, 80]\n",
        "li_ngram = [(1,1), (1,2), (1,3), (2,2), (2,3)]\n",
        "\n",
        "best_C = 0\n",
        "best_ngram = (0,0)\n",
        "best_score = 0.0\n",
        "\n",
        "for C in li_C:\n",
        "    for ngram in li_ngram:\n",
        "      vect = CountVectorizer(ngram_range=ngram)\n",
        "      pipe = make_pipeline(vect, tfidf)\n",
        "      pipe.fit_transform(X_train)\n",
        "      pipe.transform(X_val)\n",
        "      logistic_model = LogisticRegression(C=C, class_weight='balanced', multi_class='ovr')\n",
        "      full_pipeline = make_pipeline(pipe, logistic_model)\n",
        "      full_pipeline.fit(X_train, y_train)\n",
        "      y_pred_class = full_pipeline.predict(X_val)\n",
        "      score = metrics.accuracy_score(y_val, y_pred_class)\n",
        "      if score > best_score:\n",
        "        best_ngram = ngram\n",
        "        best_C = C\n",
        "        best_score = score"
      ],
      "execution_count": 65,
      "outputs": []
    },
    {
      "cell_type": "code",
      "metadata": {
        "colab": {
          "base_uri": "https://localhost:8080/"
        },
        "id": "lKYOWNziwNii",
        "outputId": "9b6aa9e7-e3e6-46fd-f71e-16acd8a2b4eb"
      },
      "source": [
        "print(best_ngram)\n",
        "print(best_C)\n",
        "print(best_score)"
      ],
      "execution_count": 66,
      "outputs": [
        {
          "output_type": "stream",
          "text": [
            "(1, 2)\n",
            "70\n",
            "0.7957166392092258\n"
          ],
          "name": "stdout"
        }
      ]
    },
    {
      "cell_type": "markdown",
      "metadata": {
        "id": "R2D0_ZYfwYoC"
      },
      "source": [
        "**Huấn luyện theo mô hình tốt nhất vừa tìm được**"
      ]
    },
    {
      "cell_type": "code",
      "metadata": {
        "id": "_fsI-GdSwUAt"
      },
      "source": [
        "logistic_model = LogisticRegression(C=best_C, class_weight='balanced', multi_class='ovr')\n",
        "vect = CountVectorizer(ngram_range=best_ngram)\n",
        "pipe = make_pipeline(vect, tfidf)\n",
        "pipe.fit_transform(X_train, y_train)\n",
        "pipe.transform(X_val)\n",
        "pipe.transform(X_test)\n",
        "full_pipeline = make_pipeline(pipe, logistic_model)"
      ],
      "execution_count": 67,
      "outputs": []
    },
    {
      "cell_type": "markdown",
      "metadata": {
        "id": "8smAMLJ3wvBZ"
      },
      "source": [
        "**Thực hiện dự đoán kết quả của tập Test**"
      ]
    },
    {
      "cell_type": "code",
      "metadata": {
        "colab": {
          "base_uri": "https://localhost:8080/"
        },
        "id": "5OWEB3gnwXdf",
        "outputId": "2c56c2ac-84f7-4805-8ed6-2caebfbd7066"
      },
      "source": [
        "full_pipeline.fit(X_train, y_train)\n",
        "y_pred_class = full_pipeline.predict(X_test)\n",
        "print('Accuracy: ')\n",
        "print(metrics.accuracy_score(y_test, y_pred_class))\n"
      ],
      "execution_count": 68,
      "outputs": [
        {
          "output_type": "stream",
          "text": [
            "Accuracy: \n",
            "0.8031674208144797\n"
          ],
          "name": "stdout"
        }
      ]
    },
    {
      "cell_type": "markdown",
      "metadata": {
        "id": "f9z2eNKkYERF"
      },
      "source": [
        "**Dump models**"
      ]
    },
    {
      "cell_type": "code",
      "metadata": {
        "colab": {
          "base_uri": "https://localhost:8080/"
        },
        "id": "kxJjjZDAZtBy",
        "outputId": "a0126f55-4914-4ab6-e1dd-1d579283c0ff"
      },
      "source": [
        "joblib.dump(full_pipeline, \"pipeline_logreg.joblib\")"
      ],
      "execution_count": 69,
      "outputs": [
        {
          "output_type": "execute_result",
          "data": {
            "text/plain": [
              "['pipeline_logreg.joblib']"
            ]
          },
          "metadata": {
            "tags": []
          },
          "execution_count": 69
        }
      ]
    },
    {
      "cell_type": "markdown",
      "metadata": {
        "id": "bB6f9fswej7n"
      },
      "source": [
        "# **Huấn luyện theo mô hình Support Vector Machine**"
      ]
    },
    {
      "cell_type": "markdown",
      "metadata": {
        "id": "RaWHG0lwej7o"
      },
      "source": [
        "**Thử nghiệm chọn ra mô hình tốt nhất**"
      ]
    },
    {
      "cell_type": "code",
      "metadata": {
        "id": "cS8g_5_Hej7o"
      },
      "source": [
        "svm_C = [1, 10, 20, 30, 40, 50, 60, 70, 80]\n",
        "svm_ngram = [(1,1), (1,2), (1,3), (2,2), (2,3)]\n",
        "\n",
        "best_C = 0\n",
        "best_ngram = (0,0)\n",
        "best_score = 0.0\n",
        "\n",
        "for C in svm_C:\n",
        "    for ngram in svm_ngram:\n",
        "      vect = CountVectorizer(ngram_range=ngram)\n",
        "      pipe = make_pipeline(vect, tfidf)\n",
        "      pipe.fit_transform(X_train)\n",
        "      pipe.transform(X_val)\n",
        "      svm_model = svm.SVC(C=C, kernel='linear', degree=3, gamma='auto')\n",
        "      full_pipeline = make_pipeline(pipe, svm_model)\n",
        "      full_pipeline.fit(X_train, y_train)\n",
        "      y_pred_class = full_pipeline.predict(X_val)\n",
        "      score = metrics.accuracy_score(y_val, y_pred_class)\n",
        "      if score > best_score:\n",
        "        best_ngram = ngram\n",
        "        best_C = C\n",
        "        best_score = score"
      ],
      "execution_count": 70,
      "outputs": []
    },
    {
      "cell_type": "code",
      "metadata": {
        "colab": {
          "base_uri": "https://localhost:8080/"
        },
        "id": "B14SKwJMej7o",
        "outputId": "a7647c36-44cc-49e9-8d0c-1a414b131530"
      },
      "source": [
        "print(best_ngram)\n",
        "print(best_C)\n",
        "print(best_score)"
      ],
      "execution_count": 71,
      "outputs": [
        {
          "output_type": "stream",
          "text": [
            "(1, 2)\n",
            "10\n",
            "0.7891268533772653\n"
          ],
          "name": "stdout"
        }
      ]
    },
    {
      "cell_type": "markdown",
      "metadata": {
        "id": "akd1zLvxej7p"
      },
      "source": [
        "**Huấn luyện theo mô hình tốt nhất vừa tìm được**"
      ]
    },
    {
      "cell_type": "code",
      "metadata": {
        "id": "oLpUK3Ryej7p"
      },
      "source": [
        "svm_model = svm.SVC(C=best_C, kernel='linear', degree=3, gamma='auto', probability=True)\n",
        "vect = CountVectorizer(ngram_range=best_ngram)\n",
        "pipe = make_pipeline(vect, tfidf)\n",
        "pipe.fit_transform(X_train, y_train)\n",
        "pipe.transform(X_val)\n",
        "pipe.transform(X_test)\n",
        "full_pipeline = make_pipeline(pipe, svm_model)"
      ],
      "execution_count": 72,
      "outputs": []
    },
    {
      "cell_type": "markdown",
      "metadata": {
        "id": "sXbmEza3ej7p"
      },
      "source": [
        "**Thực hiện dự đoán kết quả của tập Test**"
      ]
    },
    {
      "cell_type": "code",
      "metadata": {
        "colab": {
          "base_uri": "https://localhost:8080/"
        },
        "id": "T7LDc95Fej7q",
        "outputId": "fe92d1ee-26e6-4d0f-d009-6debab45b4a5"
      },
      "source": [
        "full_pipeline.fit(X_train, y_train)\n",
        "y_pred_class = full_pipeline.predict(X_test)\n",
        "print('Accuracy: ')\n",
        "print(metrics.accuracy_score(y_test, y_pred_class))\n"
      ],
      "execution_count": 73,
      "outputs": [
        {
          "output_type": "stream",
          "text": [
            "Accuracy: \n",
            "0.7941176470588235\n"
          ],
          "name": "stdout"
        }
      ]
    },
    {
      "cell_type": "code",
      "metadata": {
        "colab": {
          "base_uri": "https://localhost:8080/"
        },
        "id": "i08jh0b_s8PO",
        "outputId": "189eadbd-6b60-4a4c-ee34-bc06e20437d1"
      },
      "source": [
        "full_pipeline.steps[1][1]"
      ],
      "execution_count": 87,
      "outputs": [
        {
          "output_type": "execute_result",
          "data": {
            "text/plain": [
              "KNeighborsClassifier(algorithm='auto', leaf_size=30, metric='minkowski',\n",
              "                     metric_params=None, n_jobs=None, n_neighbors=9, p=2,\n",
              "                     weights='uniform')"
            ]
          },
          "metadata": {
            "tags": []
          },
          "execution_count": 87
        }
      ]
    },
    {
      "cell_type": "markdown",
      "metadata": {
        "id": "4131a6dxej7q"
      },
      "source": [
        "**Dump models**"
      ]
    },
    {
      "cell_type": "code",
      "metadata": {
        "colab": {
          "base_uri": "https://localhost:8080/"
        },
        "id": "cw3mUSa1ej7q",
        "outputId": "98c8708f-7056-4793-d3a0-7406b706fd78"
      },
      "source": [
        "joblib.dump(full_pipeline, \"pipeline_svm.joblib\")"
      ],
      "execution_count": 74,
      "outputs": [
        {
          "output_type": "execute_result",
          "data": {
            "text/plain": [
              "['pipeline_svm.joblib']"
            ]
          },
          "metadata": {
            "tags": []
          },
          "execution_count": 74
        }
      ]
    },
    {
      "cell_type": "markdown",
      "metadata": {
        "id": "d0eabC-AjmQr"
      },
      "source": [
        "# **Huấn luyện theo mô hình k-nearest neighbor**"
      ]
    },
    {
      "cell_type": "markdown",
      "metadata": {
        "id": "XOF_rBrRjmQ3"
      },
      "source": [
        "**Thử nghiệm chọn ra mô hình tốt nhất**"
      ]
    },
    {
      "cell_type": "code",
      "metadata": {
        "id": "FoMY5rMmjmQ3"
      },
      "source": [
        "knn_neighbors = list(range(1,10))\n",
        "knn_ngram = [(1,1), (1,2), (1,3), (2,2), (2,3)]\n",
        "\n",
        "best_n = 0\n",
        "best_ngram = (0,0)\n",
        "best_score = 0.0\n",
        "\n",
        "for n_neighbors in knn_neighbors:\n",
        "    for ngram in li_ngram:\n",
        "      vect = CountVectorizer(ngram_range=ngram)\n",
        "      pipe = make_pipeline(vect, tfidf)\n",
        "      pipe.fit_transform(X_train)\n",
        "      pipe.transform(X_val)\n",
        "      knn_model = KNeighborsClassifier(n_neighbors=n_neighbors)\n",
        "      full_pipeline = make_pipeline(pipe, knn_model)\n",
        "      full_pipeline.fit(X_train, y_train)\n",
        "      y_pred_class = full_pipeline.predict(X_val)\n",
        "      score = metrics.accuracy_score(y_val, y_pred_class)\n",
        "      if score > best_score:\n",
        "        best_ngram = ngram\n",
        "        best_n = n_neighbors\n",
        "        best_score = score"
      ],
      "execution_count": 75,
      "outputs": []
    },
    {
      "cell_type": "code",
      "metadata": {
        "colab": {
          "base_uri": "https://localhost:8080/"
        },
        "id": "GWgXODTTjmQ4",
        "outputId": "905ae1a9-8974-402a-d13a-43fe3774fb5d"
      },
      "source": [
        "print(best_ngram)\n",
        "print(best_n)\n",
        "print(best_score)"
      ],
      "execution_count": 76,
      "outputs": [
        {
          "output_type": "stream",
          "text": [
            "(1, 2)\n",
            "9\n",
            "0.6738056013179572\n"
          ],
          "name": "stdout"
        }
      ]
    },
    {
      "cell_type": "markdown",
      "metadata": {
        "id": "JuwG30F9jmQ5"
      },
      "source": [
        "**Huấn luyện theo mô hình tốt nhất vừa tìm được**"
      ]
    },
    {
      "cell_type": "code",
      "metadata": {
        "id": "l5C5X-odjmQ5"
      },
      "source": [
        "knn_model = KNeighborsClassifier(n_neighbors=n_neighbors)\n",
        "vect = CountVectorizer(ngram_range=best_ngram)\n",
        "pipe = make_pipeline(vect, tfidf)\n",
        "pipe.fit_transform(X_train, y_train)\n",
        "pipe.transform(X_val)\n",
        "pipe.transform(X_test)\n",
        "full_pipeline = make_pipeline(pipe, knn_model)"
      ],
      "execution_count": 77,
      "outputs": []
    },
    {
      "cell_type": "markdown",
      "metadata": {
        "id": "dfbJjSzdjmQ5"
      },
      "source": [
        "**Thực hiện dự đoán kết quả của tập Test**"
      ]
    },
    {
      "cell_type": "code",
      "metadata": {
        "colab": {
          "base_uri": "https://localhost:8080/"
        },
        "id": "Tl6QT5erjmQ6",
        "outputId": "7820f2b6-6dcc-4fa1-ca9f-4e2f51bc925e"
      },
      "source": [
        "full_pipeline.fit(X_train, y_train)\n",
        "y_pred_class = full_pipeline.predict(X_test)\n",
        "print('Accuracy: ')\n",
        "print(metrics.accuracy_score(y_test, y_pred_class))\n"
      ],
      "execution_count": 78,
      "outputs": [
        {
          "output_type": "stream",
          "text": [
            "Accuracy: \n",
            "0.6561085972850679\n"
          ],
          "name": "stdout"
        }
      ]
    },
    {
      "cell_type": "markdown",
      "metadata": {
        "id": "U4NKRhqCjmQ6"
      },
      "source": [
        "**Dump models**"
      ]
    },
    {
      "cell_type": "code",
      "metadata": {
        "colab": {
          "base_uri": "https://localhost:8080/"
        },
        "id": "XaiM435rjmQ8",
        "outputId": "f9a78304-77a9-4d46-f7ee-bb49ff094403"
      },
      "source": [
        "joblib.dump(full_pipeline, \"pipeline_knn.joblib\")"
      ],
      "execution_count": 79,
      "outputs": [
        {
          "output_type": "execute_result",
          "data": {
            "text/plain": [
              "['pipeline_knn.joblib']"
            ]
          },
          "metadata": {
            "tags": []
          },
          "execution_count": 79
        }
      ]
    }
  ]
}